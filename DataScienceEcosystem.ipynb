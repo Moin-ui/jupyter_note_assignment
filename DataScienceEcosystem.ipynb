{
 "cells": [
  {
   "cell_type": "markdown",
   "id": "c25c9d63-8215-4d23-b46e-f14da53122a5",
   "metadata": {
    "tags": []
   },
   "source": [
    "# Data science tools and ecosystem "
   ]
  },
  {
   "cell_type": "markdown",
   "id": "4d6c927d-42b9-4044-8ccc-36ac44b12f69",
   "metadata": {},
   "source": [
    "In this notebook, Data Science Tools and Ecosystem are summarized."
   ]
  },
  {
   "cell_type": "markdown",
   "id": "18f0adbf-c99b-43c1-ad72-57bdcb5279fd",
   "metadata": {},
   "source": [
    "**Objectives:**\n",
    "\n",
    "- List popular languages for Data Science\n",
    "- Convert units (e.g., minutes to hours)\n",
    "- Explain and implement basic Python expressions\n",
    "- Understand the usage of Jupyter Notebooks\n",
    "- Write and run code in code cells"
   ]
  },
  {
   "cell_type": "markdown",
   "id": "5b0c8c96-1c31-45e8-8016-b3412a841b9c",
   "metadata": {},
   "source": [
    "Some of the popular languages that Data Scientists use are:\n",
    "1. Python\n",
    "2. R\n",
    "3. Java\n",
    "4. Julia \n"
   ]
  },
  {
   "cell_type": "markdown",
   "id": "4de20e2d-76f4-474b-80d9-927a3c1002eb",
   "metadata": {
    "tags": []
   },
   "source": [
    "Some of the commonly used libraries used by Data Scientists include:\n",
    "1. NumPy\n",
    "2. Pandas\n",
    "3. Scikit-learn\n",
    "4. TensorFlow\n",
    "5. Matplotlib\n"
   ]
  },
  {
   "cell_type": "markdown",
   "id": "6cfb5603-6ab8-4d2a-b64c-9ac4a28a7c67",
   "metadata": {},
   "source": [
    "Some of the commonly used Data Science tools include:\n",
    "\n",
    "| Data Science Tools       |\n",
    "|--------------------------|\n",
    "| Jupyter Notebook         |\n",
    "| Apache Zeppelin          |\n",
    "| R studio                 |\n"
   ]
  },
  {
   "cell_type": "markdown",
   "id": "e777f6db-50e1-4e61-9817-1774e74ea8c7",
   "metadata": {
    "tags": []
   },
   "source": [
    "### Below are a few examples of evaluating arithmetic expressions in Python.\n"
   ]
  },
  {
   "cell_type": "code",
   "execution_count": 5,
   "id": "d0e00ca9-2e4a-492e-930c-34c4440412db",
   "metadata": {
    "tags": []
   },
   "outputs": [
    {
     "data": {
      "text/plain": [
       "17"
      ]
     },
     "execution_count": 5,
     "metadata": {},
     "output_type": "execute_result"
    }
   ],
   "source": [
    "# This is a simple arithmetic expression to multiply then add integers.\n",
    "(3 * 4) + 5\n"
   ]
  },
  {
   "cell_type": "code",
   "execution_count": 9,
   "id": "7cd1da2c-ceb6-46aa-af93-54797dc650e1",
   "metadata": {
    "tags": []
   },
   "outputs": [
    {
     "data": {
      "text/plain": [
       "3.33"
      ]
     },
     "execution_count": 9,
     "metadata": {},
     "output_type": "execute_result"
    }
   ],
   "source": [
    "# This will convert 200 minutes to hours by dividing by 60 and rounding to 2 decimal places.\n",
    "minutes = 200\n",
    "hours = minutes / 60\n",
    "rounded_hours = round(hours, 2)\n",
    "rounded_hours"
   ]
  },
  {
   "cell_type": "markdown",
   "id": "cf23ada1-7f73-4ba1-a036-bbae2e662155",
   "metadata": {},
   "source": [
    "## Author\n",
    "\n",
    "MD.khaja Moinuddin\n"
   ]
  },
  {
   "cell_type": "code",
   "execution_count": null,
   "id": "0793c168-450f-4356-b4bc-d0cf3f4af9bb",
   "metadata": {},
   "outputs": [],
   "source": []
  }
 ],
 "metadata": {
  "kernelspec": {
   "display_name": "Python",
   "language": "python",
   "name": "conda-env-python-py"
  },
  "language_info": {
   "codemirror_mode": {
    "name": "ipython",
    "version": 3
   },
   "file_extension": ".py",
   "mimetype": "text/x-python",
   "name": "python",
   "nbconvert_exporter": "python",
   "pygments_lexer": "ipython3",
   "version": "3.7.12"
  }
 },
 "nbformat": 4,
 "nbformat_minor": 5
}
